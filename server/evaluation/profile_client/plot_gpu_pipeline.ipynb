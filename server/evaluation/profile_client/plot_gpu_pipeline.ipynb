{
 "cells": [
  {
   "cell_type": "markdown",
   "metadata": {},
   "source": [
    "# List GPU Pipeline Mean Runtime\n",
    "\n",
    "The following code generates Table 2\n",
    "\n",
    "Measurement logs are provided in `./logs/gpu_pipeline.csv`, captured via Unity3D profiling tool manually."
   ]
  },
  {
   "cell_type": "code",
   "execution_count": 1,
   "metadata": {},
   "outputs": [],
   "source": [
    "import os\n",
    "os.chdir(f'{os.getcwd()}/../../')\n",
    "WORKING_DIR = './evaluation/profile_client'"
   ]
  },
  {
   "cell_type": "code",
   "execution_count": 3,
   "metadata": {},
   "outputs": [],
   "source": [
    "import pandas as pd\n",
    "from tqdm import tqdm\n",
    "\n",
    "import seaborn as sns\n",
    "from matplotlib import pyplot as plt\n",
    "sns.set(color_codes=True)"
   ]
  },
  {
   "cell_type": "code",
   "execution_count": 6,
   "metadata": {},
   "outputs": [],
   "source": [
    "df = pd.read_csv(f'{WORKING_DIR}/logs/gpu_pipeline.csv')"
   ]
  },
  {
   "cell_type": "code",
   "execution_count": 7,
   "metadata": {},
   "outputs": [
    {
     "data": {
      "text/html": [
       "<div>\n",
       "<style scoped>\n",
       "    .dataframe tbody tr th:only-of-type {\n",
       "        vertical-align: middle;\n",
       "    }\n",
       "\n",
       "    .dataframe tbody tr th {\n",
       "        vertical-align: top;\n",
       "    }\n",
       "\n",
       "    .dataframe thead th {\n",
       "        text-align: right;\n",
       "    }\n",
       "</style>\n",
       "<table border=\"1\" class=\"dataframe\">\n",
       "  <thead>\n",
       "    <tr style=\"text-align: right;\">\n",
       "      <th></th>\n",
       "      <th>MacBook Pro</th>\n",
       "      <th>iPhone</th>\n",
       "      <th>iPad Pro</th>\n",
       "    </tr>\n",
       "    <tr>\n",
       "      <th>component</th>\n",
       "      <th></th>\n",
       "      <th></th>\n",
       "      <th></th>\n",
       "    </tr>\n",
       "  </thead>\n",
       "  <tbody>\n",
       "    <tr>\n",
       "      <th>AcquireEnvironmentScan</th>\n",
       "      <td>NaN</td>\n",
       "      <td>NaN</td>\n",
       "      <td>1.458</td>\n",
       "    </tr>\n",
       "    <tr>\n",
       "      <th>EncodeBuffer</th>\n",
       "      <td>2.160</td>\n",
       "      <td>2.332</td>\n",
       "      <td>2.832</td>\n",
       "    </tr>\n",
       "    <tr>\n",
       "      <th>GeneratePointCloud</th>\n",
       "      <td>0.063</td>\n",
       "      <td>0.193</td>\n",
       "      <td>0.221</td>\n",
       "    </tr>\n",
       "    <tr>\n",
       "      <th>MakeTriggeringDecision</th>\n",
       "      <td>1.340</td>\n",
       "      <td>2.185</td>\n",
       "      <td>3.040</td>\n",
       "    </tr>\n",
       "    <tr>\n",
       "      <th>MergePersistentBuffer</th>\n",
       "      <td>0.013</td>\n",
       "      <td>0.057</td>\n",
       "      <td>0.062</td>\n",
       "    </tr>\n",
       "    <tr>\n",
       "      <th>MergeTemporaryBuffer</th>\n",
       "      <td>0.007</td>\n",
       "      <td>0.024</td>\n",
       "      <td>0.029</td>\n",
       "    </tr>\n",
       "    <tr>\n",
       "      <th>UniSphereSampling</th>\n",
       "      <td>0.015</td>\n",
       "      <td>0.061</td>\n",
       "      <td>0.063</td>\n",
       "    </tr>\n",
       "  </tbody>\n",
       "</table>\n",
       "</div>"
      ],
      "text/plain": [
       "                        MacBook Pro  iPhone  iPad Pro\n",
       "component                                            \n",
       "AcquireEnvironmentScan          NaN     NaN     1.458\n",
       "EncodeBuffer                  2.160   2.332     2.832\n",
       "GeneratePointCloud            0.063   0.193     0.221\n",
       "MakeTriggeringDecision        1.340   2.185     3.040\n",
       "MergePersistentBuffer         0.013   0.057     0.062\n",
       "MergeTemporaryBuffer          0.007   0.024     0.029\n",
       "UniSphereSampling             0.015   0.061     0.063"
      ]
     },
     "execution_count": 7,
     "metadata": {},
     "output_type": "execute_result"
    }
   ],
   "source": [
    "df.groupby('component').mean()"
   ]
  },
  {
   "cell_type": "code",
   "execution_count": null,
   "metadata": {},
   "outputs": [],
   "source": []
  }
 ],
 "metadata": {
  "kernelspec": {
   "display_name": "XiheNet",
   "language": "python",
   "name": "xihenet"
  },
  "language_info": {
   "codemirror_mode": {
    "name": "ipython",
    "version": 3
   },
   "file_extension": ".py",
   "mimetype": "text/x-python",
   "name": "python",
   "nbconvert_exporter": "python",
   "pygments_lexer": "ipython3",
   "version": "3.8.5"
  }
 },
 "nbformat": 4,
 "nbformat_minor": 4
}
