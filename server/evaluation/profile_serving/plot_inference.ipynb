{
 "cells": [
  {
   "cell_type": "markdown",
   "metadata": {},
   "source": [
    "# GPU 0 (RTX 2080 Ti)"
   ]
  },
  {
   "cell_type": "code",
   "execution_count": 1,
   "metadata": {},
   "outputs": [],
   "source": [
    "import os\n",
    "os.chdir(f'{os.getcwd()}/../../')\n",
    "WORKING_DIR = './evaluation/serving'\n",
    "\n",
    "os.environ['CUDA_DEVICE_ORDER'] = 'PCI_BUS_ID'\n",
    "os.environ['CUDA_VISIBLE_DEVICES'] = '0'"
   ]
  },
  {
   "cell_type": "code",
   "execution_count": 14,
   "metadata": {},
   "outputs": [],
   "source": [
    "import torch\n",
    "import numpy as np\n",
    "import pandas as pd\n",
    "from tqdm import tqdm\n",
    "from timeit import timeit\n",
    "\n",
    "from model import XiheNet\n",
    "from evaluation.utils import SphericalHarmonics\n",
    "from datasets.xihe.loader import XiheTestDataset\n",
    "\n",
    "import seaborn as sns\n",
    "from matplotlib import pyplot as plt\n",
    "sns.set(color_codes=True)"
   ]
  },
  {
   "cell_type": "code",
   "execution_count": 23,
   "metadata": {},
   "outputs": [],
   "source": [
    "def get_scripted_model(n_points):\n",
    "    model = XiheNet(hparams={\n",
    "        'n_shc': 27,\n",
    "        'n_points': n_points,\n",
    "        'min': torch.zeros((27)),\n",
    "        'scale': torch.ones((27))\n",
    "    })\n",
    "    _ = model.eval().cuda()\n",
    "    scripted_model = torch.jit.script(model)\n",
    "    \n",
    "    x_xyz = torch.zeros((1, 3, n_points)).cuda()\n",
    "    x_rgb = torch.zeros((1, 3, n_points)).cuda()\n",
    "    \n",
    "    return x_xyz, x_rgb, scripted_model"
   ]
  },
  {
   "cell_type": "code",
   "execution_count": 40,
   "metadata": {},
   "outputs": [
    {
     "name": "stdout",
     "output_type": "stream",
     "text": [
      "3.99 ms ± 129 µs per loop (mean ± std. dev. of 7 runs, 100 loops each)\n"
     ]
    }
   ],
   "source": [
    "x_xyz, x_rgb, m = get_scripted_model(512)\n",
    "%timeit m.forward(x_xyz, x_rgb)"
   ]
  },
  {
   "cell_type": "code",
   "execution_count": 42,
   "metadata": {},
   "outputs": [
    {
     "name": "stdout",
     "output_type": "stream",
     "text": [
      "4.04 ms ± 220 µs per loop (mean ± std. dev. of 7 runs, 100 loops each)\n"
     ]
    }
   ],
   "source": [
    "x_xyz, x_rgb, m = get_scripted_model(768)\n",
    "%timeit m.forward(x_xyz, x_rgb)"
   ]
  },
  {
   "cell_type": "code",
   "execution_count": 33,
   "metadata": {},
   "outputs": [
    {
     "name": "stdout",
     "output_type": "stream",
     "text": [
      "4.41 ms ± 40.8 µs per loop (mean ± std. dev. of 7 runs, 100 loops each)\n"
     ]
    }
   ],
   "source": [
    "x_xyz, x_rgb, m = get_scripted_model(1024)\n",
    "%timeit m.forward(x_xyz, x_rgb)"
   ]
  },
  {
   "cell_type": "code",
   "execution_count": 38,
   "metadata": {},
   "outputs": [
    {
     "name": "stdout",
     "output_type": "stream",
     "text": [
      "5.91 ms ± 22.4 µs per loop (mean ± std. dev. of 7 runs, 100 loops each)\n"
     ]
    }
   ],
   "source": [
    "x_xyz, x_rgb, m = get_scripted_model(1280)\n",
    "%timeit m.forward(x_xyz, x_rgb)"
   ]
  },
  {
   "cell_type": "code",
   "execution_count": 35,
   "metadata": {},
   "outputs": [
    {
     "name": "stdout",
     "output_type": "stream",
     "text": [
      "7.38 ms ± 21.4 µs per loop (mean ± std. dev. of 7 runs, 100 loops each)\n"
     ]
    }
   ],
   "source": [
    "x_xyz, x_rgb, m = get_scripted_model(1536)\n",
    "%timeit m.forward(x_xyz, x_rgb)"
   ]
  },
  {
   "cell_type": "code",
   "execution_count": 36,
   "metadata": {},
   "outputs": [
    {
     "name": "stdout",
     "output_type": "stream",
     "text": [
      "9.04 ms ± 21.2 µs per loop (mean ± std. dev. of 7 runs, 100 loops each)\n"
     ]
    }
   ],
   "source": [
    "x_xyz, x_rgb, m = get_scripted_model(1792)\n",
    "%timeit m.forward(x_xyz, x_rgb)"
   ]
  },
  {
   "cell_type": "code",
   "execution_count": 37,
   "metadata": {},
   "outputs": [
    {
     "name": "stdout",
     "output_type": "stream",
     "text": [
      "10.8 ms ± 16.8 µs per loop (mean ± std. dev. of 7 runs, 100 loops each)\n"
     ]
    }
   ],
   "source": [
    "x_xyz, x_rgb, m = get_scripted_model(2048)\n",
    "%timeit m.forward(x_xyz, x_rgb)"
   ]
  },
  {
   "cell_type": "markdown",
   "metadata": {},
   "source": [
    "# GPU 2 (RTX 3090)"
   ]
  },
  {
   "cell_type": "code",
   "execution_count": 1,
   "metadata": {},
   "outputs": [],
   "source": [
    "import os\n",
    "os.chdir(f'{os.getcwd()}/../../')\n",
    "\n",
    "os.environ['CUDA_DEVICE_ORDER'] = 'PCI_BUS_ID'\n",
    "os.environ['CUDA_VISIBLE_DEVICES'] = '2'"
   ]
  },
  {
   "cell_type": "code",
   "execution_count": 2,
   "metadata": {},
   "outputs": [],
   "source": [
    "import torch\n",
    "import pandas as pd\n",
    "from tqdm import tqdm\n",
    "from timeit import timeit\n",
    "\n",
    "from model import XiheNet\n",
    "from evaluation.utils import SphericalHarmonics\n",
    "from datasets.xihe.loader import XiheTestDataset\n",
    "\n",
    "import seaborn as sns\n",
    "from matplotlib import pyplot as plt\n",
    "sns.set(color_codes=True)"
   ]
  },
  {
   "cell_type": "code",
   "execution_count": 3,
   "metadata": {},
   "outputs": [],
   "source": [
    "def get_scripted_model(n_points):\n",
    "    model = XiheNet(hparams={\n",
    "        'n_shc': 27,\n",
    "        'n_points': n_points,\n",
    "        'min': torch.zeros((27)),\n",
    "        'scale': torch.ones((27))\n",
    "    })\n",
    "    _ = model.eval().cuda()\n",
    "    scripted_model = torch.jit.script(model)\n",
    "    \n",
    "    x_xyz = torch.zeros((1, 3, n_points)).cuda()\n",
    "    x_rgb = torch.zeros((1, 3, n_points)).cuda()\n",
    "    \n",
    "    return x_xyz, x_rgb, scripted_model"
   ]
  },
  {
   "cell_type": "code",
   "execution_count": 12,
   "metadata": {},
   "outputs": [
    {
     "name": "stdout",
     "output_type": "stream",
     "text": [
      "3.2 ms ± 16.7 µs per loop (mean ± std. dev. of 7 runs, 100 loops each)\n"
     ]
    }
   ],
   "source": [
    "x_xyz, x_rgb, m = get_scripted_model(512)\n",
    "%timeit m.forward(x_xyz, x_rgb)"
   ]
  },
  {
   "cell_type": "code",
   "execution_count": 13,
   "metadata": {},
   "outputs": [
    {
     "name": "stdout",
     "output_type": "stream",
     "text": [
      "3.25 ms ± 26.2 µs per loop (mean ± std. dev. of 7 runs, 100 loops each)\n"
     ]
    }
   ],
   "source": [
    "x_xyz, x_rgb, m = get_scripted_model(768)\n",
    "%timeit m.forward(x_xyz, x_rgb)"
   ]
  },
  {
   "cell_type": "code",
   "execution_count": 14,
   "metadata": {},
   "outputs": [
    {
     "name": "stdout",
     "output_type": "stream",
     "text": [
      "3.33 ms ± 61.4 µs per loop (mean ± std. dev. of 7 runs, 100 loops each)\n"
     ]
    }
   ],
   "source": [
    "x_xyz, x_rgb, m = get_scripted_model(1024)\n",
    "%timeit m.forward(x_xyz, x_rgb)"
   ]
  },
  {
   "cell_type": "code",
   "execution_count": 19,
   "metadata": {},
   "outputs": [
    {
     "name": "stdout",
     "output_type": "stream",
     "text": [
      "4.42 ms ± 1.36 µs per loop (mean ± std. dev. of 7 runs, 100 loops each)\n"
     ]
    }
   ],
   "source": [
    "x_xyz, x_rgb, m = get_scripted_model(1280)\n",
    "%timeit m.forward(x_xyz, x_rgb)"
   ]
  },
  {
   "cell_type": "code",
   "execution_count": 16,
   "metadata": {},
   "outputs": [
    {
     "name": "stdout",
     "output_type": "stream",
     "text": [
      "5.67 ms ± 1.56 µs per loop (mean ± std. dev. of 7 runs, 100 loops each)\n"
     ]
    }
   ],
   "source": [
    "x_xyz, x_rgb, m = get_scripted_model(1536)\n",
    "%timeit m.forward(x_xyz, x_rgb)"
   ]
  },
  {
   "cell_type": "code",
   "execution_count": 17,
   "metadata": {},
   "outputs": [
    {
     "name": "stdout",
     "output_type": "stream",
     "text": [
      "7.06 ms ± 4.68 µs per loop (mean ± std. dev. of 7 runs, 100 loops each)\n"
     ]
    }
   ],
   "source": [
    "x_xyz, x_rgb, m = get_scripted_model(1792)\n",
    "%timeit m.forward(x_xyz, x_rgb)"
   ]
  },
  {
   "cell_type": "code",
   "execution_count": 18,
   "metadata": {},
   "outputs": [
    {
     "name": "stdout",
     "output_type": "stream",
     "text": [
      "8.52 ms ± 2.48 µs per loop (mean ± std. dev. of 7 runs, 100 loops each)\n"
     ]
    }
   ],
   "source": [
    "x_xyz, x_rgb, m = get_scripted_model(2048)\n",
    "%timeit m.forward(x_xyz, x_rgb)"
   ]
  },
  {
   "cell_type": "markdown",
   "metadata": {},
   "source": [
    "# Plot"
   ]
  },
  {
   "cell_type": "code",
   "execution_count": 3,
   "metadata": {},
   "outputs": [],
   "source": [
    "df = pd.DataFrame(columns=['n_points', 'RTX 2080Ti Mean', 'RTX 2080Ti Std', 'RTX 3090 Mean', 'RTX 3090 Std'])\n",
    "df.loc[len(df)] = ['512', 3.99, 129 / 1000, 3.2, 16.7]\n",
    "df.loc[len(df)] = ['768', 4.04, 220 / 1000, 3.25, 26.2]\n",
    "df.loc[len(df)] = ['1024', 4.41, 40.8 / 1000, 3.33, 61.4]\n",
    "df.loc[len(df)] = ['1280', 5.91, 22.4 / 1000, 4.42, 1.36]\n",
    "df.loc[len(df)] = ['1536', 7.38, 21.4 / 1000, 5.67, 1.56]\n",
    "df.loc[len(df)] = ['1792', 9.04, 21.2 / 1000, 7.06, 4.68]\n",
    "df.loc[len(df)] = ['2048', 10.8, 16.8/ 1000, 8.52, 2.48]"
   ]
  },
  {
   "cell_type": "code",
   "execution_count": 4,
   "metadata": {},
   "outputs": [
    {
     "data": {
      "text/html": [
       "<div>\n",
       "<style scoped>\n",
       "    .dataframe tbody tr th:only-of-type {\n",
       "        vertical-align: middle;\n",
       "    }\n",
       "\n",
       "    .dataframe tbody tr th {\n",
       "        vertical-align: top;\n",
       "    }\n",
       "\n",
       "    .dataframe thead th {\n",
       "        text-align: right;\n",
       "    }\n",
       "</style>\n",
       "<table border=\"1\" class=\"dataframe\">\n",
       "  <thead>\n",
       "    <tr style=\"text-align: right;\">\n",
       "      <th></th>\n",
       "      <th>n_points</th>\n",
       "      <th>RTX 2080Ti Mean</th>\n",
       "      <th>RTX 2080Ti Std</th>\n",
       "      <th>RTX 3090 Mean</th>\n",
       "      <th>RTX 3090 Std</th>\n",
       "    </tr>\n",
       "  </thead>\n",
       "  <tbody>\n",
       "    <tr>\n",
       "      <th>0</th>\n",
       "      <td>512</td>\n",
       "      <td>3.99</td>\n",
       "      <td>0.1290</td>\n",
       "      <td>3.20</td>\n",
       "      <td>16.70</td>\n",
       "    </tr>\n",
       "    <tr>\n",
       "      <th>1</th>\n",
       "      <td>768</td>\n",
       "      <td>4.04</td>\n",
       "      <td>0.2200</td>\n",
       "      <td>3.25</td>\n",
       "      <td>26.20</td>\n",
       "    </tr>\n",
       "    <tr>\n",
       "      <th>2</th>\n",
       "      <td>1024</td>\n",
       "      <td>4.41</td>\n",
       "      <td>0.0408</td>\n",
       "      <td>3.33</td>\n",
       "      <td>61.40</td>\n",
       "    </tr>\n",
       "    <tr>\n",
       "      <th>3</th>\n",
       "      <td>1280</td>\n",
       "      <td>5.91</td>\n",
       "      <td>0.0224</td>\n",
       "      <td>4.42</td>\n",
       "      <td>1.36</td>\n",
       "    </tr>\n",
       "    <tr>\n",
       "      <th>4</th>\n",
       "      <td>1536</td>\n",
       "      <td>7.38</td>\n",
       "      <td>0.0214</td>\n",
       "      <td>5.67</td>\n",
       "      <td>1.56</td>\n",
       "    </tr>\n",
       "    <tr>\n",
       "      <th>5</th>\n",
       "      <td>1792</td>\n",
       "      <td>9.04</td>\n",
       "      <td>0.0212</td>\n",
       "      <td>7.06</td>\n",
       "      <td>4.68</td>\n",
       "    </tr>\n",
       "    <tr>\n",
       "      <th>6</th>\n",
       "      <td>2048</td>\n",
       "      <td>10.80</td>\n",
       "      <td>0.0168</td>\n",
       "      <td>8.52</td>\n",
       "      <td>2.48</td>\n",
       "    </tr>\n",
       "  </tbody>\n",
       "</table>\n",
       "</div>"
      ],
      "text/plain": [
       "  n_points  RTX 2080Ti Mean  RTX 2080Ti Std  RTX 3090 Mean  RTX 3090 Std\n",
       "0      512             3.99          0.1290           3.20         16.70\n",
       "1      768             4.04          0.2200           3.25         26.20\n",
       "2     1024             4.41          0.0408           3.33         61.40\n",
       "3     1280             5.91          0.0224           4.42          1.36\n",
       "4     1536             7.38          0.0214           5.67          1.56\n",
       "5     1792             9.04          0.0212           7.06          4.68\n",
       "6     2048            10.80          0.0168           8.52          2.48"
      ]
     },
     "execution_count": 4,
     "metadata": {},
     "output_type": "execute_result"
    }
   ],
   "source": [
    "df"
   ]
  },
  {
   "cell_type": "code",
   "execution_count": 5,
   "metadata": {},
   "outputs": [],
   "source": [
    "df.to_csv(f'{WORKING_DIR}/logs/inference_time.csv')"
   ]
  },
  {
   "cell_type": "code",
   "execution_count": 9,
   "metadata": {},
   "outputs": [],
   "source": [
    "df['Throughput'] = 1000 / df[['RTX 2080Ti Mean']]"
   ]
  },
  {
   "cell_type": "code",
   "execution_count": 10,
   "metadata": {},
   "outputs": [
    {
     "data": {
      "text/html": [
       "<div>\n",
       "<style scoped>\n",
       "    .dataframe tbody tr th:only-of-type {\n",
       "        vertical-align: middle;\n",
       "    }\n",
       "\n",
       "    .dataframe tbody tr th {\n",
       "        vertical-align: top;\n",
       "    }\n",
       "\n",
       "    .dataframe thead th {\n",
       "        text-align: right;\n",
       "    }\n",
       "</style>\n",
       "<table border=\"1\" class=\"dataframe\">\n",
       "  <thead>\n",
       "    <tr style=\"text-align: right;\">\n",
       "      <th></th>\n",
       "      <th>n_points</th>\n",
       "      <th>RTX 2080Ti Mean</th>\n",
       "      <th>RTX 2080Ti Std</th>\n",
       "      <th>RTX 3090 Mean</th>\n",
       "      <th>RTX 3090 Std</th>\n",
       "      <th>Throughput</th>\n",
       "    </tr>\n",
       "  </thead>\n",
       "  <tbody>\n",
       "    <tr>\n",
       "      <th>0</th>\n",
       "      <td>512</td>\n",
       "      <td>3.99</td>\n",
       "      <td>0.1290</td>\n",
       "      <td>3.20</td>\n",
       "      <td>16.70</td>\n",
       "      <td>250.626566</td>\n",
       "    </tr>\n",
       "    <tr>\n",
       "      <th>1</th>\n",
       "      <td>768</td>\n",
       "      <td>4.04</td>\n",
       "      <td>0.2200</td>\n",
       "      <td>3.25</td>\n",
       "      <td>26.20</td>\n",
       "      <td>247.524752</td>\n",
       "    </tr>\n",
       "    <tr>\n",
       "      <th>2</th>\n",
       "      <td>1024</td>\n",
       "      <td>4.41</td>\n",
       "      <td>0.0408</td>\n",
       "      <td>3.33</td>\n",
       "      <td>61.40</td>\n",
       "      <td>226.757370</td>\n",
       "    </tr>\n",
       "    <tr>\n",
       "      <th>3</th>\n",
       "      <td>1280</td>\n",
       "      <td>5.91</td>\n",
       "      <td>0.0224</td>\n",
       "      <td>4.42</td>\n",
       "      <td>1.36</td>\n",
       "      <td>169.204738</td>\n",
       "    </tr>\n",
       "    <tr>\n",
       "      <th>4</th>\n",
       "      <td>1536</td>\n",
       "      <td>7.38</td>\n",
       "      <td>0.0214</td>\n",
       "      <td>5.67</td>\n",
       "      <td>1.56</td>\n",
       "      <td>135.501355</td>\n",
       "    </tr>\n",
       "    <tr>\n",
       "      <th>5</th>\n",
       "      <td>1792</td>\n",
       "      <td>9.04</td>\n",
       "      <td>0.0212</td>\n",
       "      <td>7.06</td>\n",
       "      <td>4.68</td>\n",
       "      <td>110.619469</td>\n",
       "    </tr>\n",
       "    <tr>\n",
       "      <th>6</th>\n",
       "      <td>2048</td>\n",
       "      <td>10.80</td>\n",
       "      <td>0.0168</td>\n",
       "      <td>8.52</td>\n",
       "      <td>2.48</td>\n",
       "      <td>92.592593</td>\n",
       "    </tr>\n",
       "  </tbody>\n",
       "</table>\n",
       "</div>"
      ],
      "text/plain": [
       "  n_points  RTX 2080Ti Mean  RTX 2080Ti Std  RTX 3090 Mean  RTX 3090 Std  \\\n",
       "0      512             3.99          0.1290           3.20         16.70   \n",
       "1      768             4.04          0.2200           3.25         26.20   \n",
       "2     1024             4.41          0.0408           3.33         61.40   \n",
       "3     1280             5.91          0.0224           4.42          1.36   \n",
       "4     1536             7.38          0.0214           5.67          1.56   \n",
       "5     1792             9.04          0.0212           7.06          4.68   \n",
       "6     2048            10.80          0.0168           8.52          2.48   \n",
       "\n",
       "   Throughput  \n",
       "0  250.626566  \n",
       "1  247.524752  \n",
       "2  226.757370  \n",
       "3  169.204738  \n",
       "4  135.501355  \n",
       "5  110.619469  \n",
       "6   92.592593  "
      ]
     },
     "execution_count": 10,
     "metadata": {},
     "output_type": "execute_result"
    }
   ],
   "source": [
    "df"
   ]
  },
  {
   "cell_type": "code",
   "execution_count": 18,
   "metadata": {},
   "outputs": [
    {
     "name": "stderr",
     "output_type": "stream",
     "text": [
      "<ipython-input-18-1c7d805a5d87>:10: UserWarning: FixedFormatter should only be used together with FixedLocator\n",
      "  ax.set_yticklabels(ax.get_yticks().astype(int), size=14)\n"
     ]
    },
    {
     "data": {
      "image/png": "[encoded data removed]",
      "text/plain": [
       "<Figure size 360x288 with 1 Axes>"
      ]
     },
     "metadata": {},
     "output_type": "display_data"
    }
   ],
   "source": [
    "plt.figure(figsize=(5, 4))\n",
    "\n",
    "ax = sns.barplot(data=df, x='n_points', y='Throughput', color='b')\n",
    "\n",
    "ax.set_xlabel('Num. of Anchors', fontsize=20)\n",
    "ax.set_ylabel('Throughput (infer/sec)', fontsize=20)\n",
    "\n",
    "ax.set_xticklabels(ax.get_xticklabels(), size=14)\n",
    "# ax.set_yticklabels(ax.get_yticklabels(), size=16)\n",
    "ax.set_yticklabels(ax.get_yticks().astype(int), size=14)\n",
    "\n",
    "plt.tight_layout(pad=0)\n",
    "plt.savefig(f'{WORKING_DIR}/figures/inference_throughput.pdf')"
   ]
  },
  {
   "cell_type": "code",
   "execution_count": null,
   "metadata": {},
   "outputs": [],
   "source": []
  }
 ],
 "metadata": {
  "kernelspec": {
   "display_name": "XiheNet",
   "language": "python",
   "name": "xihenet"
  },
  "language_info": {
   "codemirror_mode": {
    "name": "ipython",
    "version": 3
   },
   "file_extension": ".py",
   "mimetype": "text/x-python",
   "name": "python",
   "nbconvert_exporter": "python",
   "pygments_lexer": "ipython3",
   "version": "3.8.5"
  }
 },
 "nbformat": 4,
 "nbformat_minor": 4
}
