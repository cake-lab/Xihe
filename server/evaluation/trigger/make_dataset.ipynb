{
 "cells": [
  {
   "cell_type": "markdown",
   "metadata": {},
   "source": [
    "# Dataset Generation"
   ]
  },
  {
   "cell_type": "code",
   "execution_count": 1,
   "metadata": {},
   "outputs": [],
   "source": [
    "import os\n",
    "os.chdir(f'{os.getcwd()}/../../')\n",
    "WORKING_DIR = './evaluation/trigger'"
   ]
  },
  {
   "cell_type": "code",
   "execution_count": 2,
   "metadata": {},
   "outputs": [],
   "source": [
    "import numpy as np\n",
    "import pandas as pd"
   ]
  },
  {
   "cell_type": "code",
   "execution_count": 3,
   "metadata": {},
   "outputs": [],
   "source": [
    "shc_mse = np.load(f'{WORKING_DIR}/data/shc_rmse.npy')\n",
    "shr_psnr = np.load(f'{WORKING_DIR}/data/shr_psnr.npy')\n",
    "shr_ssim = np.load(f'{WORKING_DIR}/data/shr_ssim.npy')"
   ]
  },
  {
   "cell_type": "code",
   "execution_count": 4,
   "metadata": {},
   "outputs": [],
   "source": [
    "for m in range(3):\n",
    "    metric = [shc_mse, shr_psnr, shr_ssim][m]\n",
    "    metric_name = ['shc_mse', 'psnr', 'ssim'][m]\n",
    "    \n",
    "    for i in range(25):\n",
    "        index = np.arange(metric.shape[0])\n",
    "        zeros = np.zeros_like(index)\n",
    "        ones = np.ones_like(index)\n",
    "\n",
    "        l = np.quantile(metric, (i + 1) / 100)\n",
    "        l_mask = metric <= l\n",
    "        l_data = metric[l_mask]\n",
    "\n",
    "        r = np.quantile(metric, (100 - (i + 1)) / 100)\n",
    "        r_mask = metric >= r\n",
    "        r_data = metric[r_mask]\n",
    "        \n",
    "        decision =  np.concatenate((zeros[l_mask], ones[r_mask]), axis=0)\n",
    "        if m > 0:\n",
    "            decision = 1 - decision\n",
    "\n",
    "        df = pd.DataFrame.from_dict({\n",
    "            'idx': np.concatenate((index[l_mask], index[r_mask]), axis=0),\n",
    "            'diff': np.concatenate((l_data, r_data), axis=0),\n",
    "            'metric_name': metric_name,\n",
    "            'decision': decision\n",
    "        })\n",
    "\n",
    "        df.to_csv(f'{WORKING_DIR}/dataset/{metric_name}_{(i + 1)}_{(100 - (i + 1))}.csv')"
   ]
  },
  {
   "cell_type": "code",
   "execution_count": null,
   "metadata": {},
   "outputs": [],
   "source": []
  }
 ],
 "metadata": {
  "kernelspec": {
   "display_name": "XiheNet",
   "language": "python",
   "name": "xihenet"
  },
  "language_info": {
   "codemirror_mode": {
    "name": "ipython",
    "version": 3
   },
   "file_extension": ".py",
   "mimetype": "text/x-python",
   "name": "python",
   "nbconvert_exporter": "python",
   "pygments_lexer": "ipython3",
   "version": "3.8.5"
  }
 },
 "nbformat": 4,
 "nbformat_minor": 4
}
