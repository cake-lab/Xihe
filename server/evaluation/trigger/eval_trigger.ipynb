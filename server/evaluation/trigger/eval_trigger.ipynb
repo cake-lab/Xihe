{
 "cells": [
  {
   "cell_type": "markdown",
   "metadata": {},
   "source": [
    "# Apply Triggering and Evaluate"
   ]
  },
  {
   "cell_type": "code",
   "execution_count": 1,
   "metadata": {},
   "outputs": [],
   "source": [
    "import os\n",
    "os.chdir(f'{os.getcwd()}/../../')\n",
    "WORKING_DIR = './evaluation/trigger'"
   ]
  },
  {
   "cell_type": "code",
   "execution_count": 2,
   "metadata": {},
   "outputs": [],
   "source": [
    "import imageio\n",
    "import numpy as np\n",
    "import pandas as pd\n",
    "from tqdm import tqdm\n",
    "import utils3d as u3d\n",
    "from datasets.xihe.loader import XiheTestDataset\n",
    "from datasets.neural_illumination import NeuralIlluminationList"
   ]
  },
  {
   "cell_type": "code",
   "execution_count": 3,
   "metadata": {},
   "outputs": [],
   "source": [
    "def get_neighbors(n_anchors, n_neighbors):\n",
    "    sphere_anchors = u3d.fibonacci_sphere(n_anchors)\n",
    "    neighbors = []\n",
    "    for i, anchor in enumerate(sphere_anchors):\n",
    "        neighbors.append([])\n",
    "\n",
    "        for j, v in enumerate(sphere_anchors):\n",
    "            # if i == j:\n",
    "            #     continue\n",
    "\n",
    "            neighbors[i].append({'index': j, 'angel': np.dot(anchor, v)})\n",
    "\n",
    "        neighbors[i] = sorted(\n",
    "            neighbors[i],\n",
    "            key=lambda x: x['angel'],\n",
    "            reverse=True)[:n_neighbors]\n",
    "        neighbors[i] = [v['index'] for v in neighbors[i]]\n",
    "\n",
    "    neighbors = np.array(neighbors, dtype=np.int)\n",
    "\n",
    "    return neighbors"
   ]
  },
  {
   "cell_type": "code",
   "execution_count": 4,
   "metadata": {},
   "outputs": [],
   "source": [
    "sv_pairs = np.load(f'{WORKING_DIR}/data/sv_pairs.npy')\n",
    "nsv_pairs = np.load(f'{WORKING_DIR}/data/nsv_pairs.npy')\n",
    "\n",
    "pairs = np.concatenate((sv_pairs, nsv_pairs), axis=0)\n",
    "test_dataset = XiheTestDataset(n_points=1280)\n",
    "ni_test = NeuralIlluminationList('test')\n",
    "\n",
    "neighbors_4 = get_neighbors(1280, 4)\n",
    "neighbors_9 = get_neighbors(1280, 9)\n",
    "neighbors_16 = get_neighbors(1280, 16)"
   ]
  },
  {
   "cell_type": "code",
   "execution_count": 5,
   "metadata": {},
   "outputs": [],
   "source": [
    "df = pd.DataFrame(columns=['data_idx', 'trigger_method', 'value'])"
   ]
  },
  {
   "cell_type": "code",
   "execution_count": 6,
   "metadata": {},
   "outputs": [],
   "source": [
    "def image_trigger(m, n):\n",
    "    root = '/mnt/IRONWOLF1/yiqinzhao/RawDatasets/Matterport3D/v1/scans/'\n",
    "    obs_m = imageio.imread(f'{root}/{m[\"scene_id\"]}/undistorted_color_images/{m[\"observation_image\"]}.jpg') / 255\n",
    "    obs_n = imageio.imread(f'{root}/{n[\"scene_id\"]}/undistorted_color_images/{n[\"observation_image\"]}.jpg') / 255\n",
    "    \n",
    "    return np.mean((obs_m - obs_n) ** 2)"
   ]
  },
  {
   "cell_type": "code",
   "execution_count": 7,
   "metadata": {},
   "outputs": [],
   "source": [
    "def sphere_trigger(m, n):\n",
    "    return np.mean((m - n) ** 2)"
   ]
  },
  {
   "cell_type": "code",
   "execution_count": 8,
   "metadata": {},
   "outputs": [],
   "source": [
    "def xihe_trigger(clr_m, clr_n, neighbors):\n",
    "    clr_m_window = clr_m[neighbors, :]\n",
    "    clr_n_window = clr_n[neighbors, :]\n",
    "    \n",
    "    mse = np.mean((clr_m_window - clr_n_window) ** 2, axis=-1)\n",
    "    mse_window = np.mean(mse, axis=-1)\n",
    "    max_mse = np.max(mse_window)\n",
    "    \n",
    "    return max_mse"
   ]
  },
  {
   "cell_type": "code",
   "execution_count": 9,
   "metadata": {},
   "outputs": [],
   "source": [
    "i = 0\n",
    "p = pairs[i]\n",
    "m, n = p\n",
    "\n",
    "x_m = test_dataset[m][0][1].numpy().transpose()\n",
    "x_n = test_dataset[n][0][1].numpy().transpose()"
   ]
  },
  {
   "cell_type": "code",
   "execution_count": 14,
   "metadata": {},
   "outputs": [
    {
     "data": {
      "text/plain": [
       "(1280, 4, 3)"
      ]
     },
     "execution_count": 14,
     "metadata": {},
     "output_type": "execute_result"
    }
   ],
   "source": [
    "x_m[neighbors_4].shape"
   ]
  },
  {
   "cell_type": "code",
   "execution_count": 16,
   "metadata": {},
   "outputs": [
    {
     "name": "stderr",
     "output_type": "stream",
     "text": [
      "100%|██████████| 1754/1754 [02:38<00:00, 11.07it/s]\n"
     ]
    }
   ],
   "source": [
    "for i in tqdm(range(len(pairs))):\n",
    "    p = pairs[i]\n",
    "    m, n = p\n",
    "    \n",
    "    x_m = test_dataset[m][0][1].numpy().transpose()\n",
    "    x_n = test_dataset[n][0][1].numpy().transpose()\n",
    "    \n",
    "    df.loc[len(df)] = [i, 'image', image_trigger(ni_test[m], ni_test[n])]\n",
    "    df.loc[len(df)] = [i, 'xihe_1', sphere_trigger(x_m, x_n)]\n",
    "    df.loc[len(df)] = [i, 'xihe_4', xihe_trigger(x_m, x_n, neighbors_4)]\n",
    "    df.loc[len(df)] = [i, 'xihe_9', xihe_trigger(x_m, x_n, neighbors_9)]\n",
    "    df.loc[len(df)] = [i, 'xihe_16', xihe_trigger(x_m, x_n, neighbors_16)]"
   ]
  },
  {
   "cell_type": "code",
   "execution_count": 17,
   "metadata": {},
   "outputs": [],
   "source": [
    "df.to_csv(f'{WORKING_DIR}/results/trigger_values.csv')"
   ]
  },
  {
   "cell_type": "code",
   "execution_count": null,
   "metadata": {},
   "outputs": [],
   "source": []
  }
 ],
 "metadata": {
  "kernelspec": {
   "display_name": "XiheNet",
   "language": "python",
   "name": "xihenet"
  },
  "language_info": {
   "codemirror_mode": {
    "name": "ipython",
    "version": 3
   },
   "file_extension": ".py",
   "mimetype": "text/x-python",
   "name": "python",
   "nbconvert_exporter": "python",
   "pygments_lexer": "ipython3",
   "version": "3.8.5"
  }
 },
 "nbformat": 4,
 "nbformat_minor": 4
}
