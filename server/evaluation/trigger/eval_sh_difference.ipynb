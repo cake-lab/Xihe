{
 "cells": [
  {
   "cell_type": "markdown",
   "metadata": {},
   "source": [
    "# Evaluate the SH Coefficients Metrics on Generated Dataset"
   ]
  },
  {
   "cell_type": "code",
   "execution_count": 1,
   "metadata": {},
   "outputs": [],
   "source": [
    "import os\n",
    "os.chdir(f'{os.getcwd()}/../../')\n",
    "WORKING_DIR = './evaluation/trigger'"
   ]
  },
  {
   "cell_type": "code",
   "execution_count": 3,
   "metadata": {},
   "outputs": [],
   "source": [
    "import numpy as np\n",
    "import pandas as pd\n",
    "from tqdm import tqdm\n",
    "import utils3d as u3d\n",
    "\n",
    "from datasets.xihe.loader import XiheTestDataset"
   ]
  },
  {
   "cell_type": "code",
   "execution_count": 4,
   "metadata": {},
   "outputs": [],
   "source": [
    "sv_pairs = np.load(f'{WORKING_DIR}/data/sv_pairs.npy')\n",
    "nsv_pairs = np.load(f'{WORKING_DIR}/data/nsv_pairs.npy')\n",
    "pairs = np.concatenate((sv_pairs, nsv_pairs), axis=0)"
   ]
  },
  {
   "cell_type": "code",
   "execution_count": 7,
   "metadata": {},
   "outputs": [],
   "source": [
    "test_dataset = XiheTestDataset(n_points=1280)"
   ]
  },
  {
   "cell_type": "code",
   "execution_count": 8,
   "metadata": {},
   "outputs": [],
   "source": [
    "shc_rmse = np.zeros((len(pairs)), dtype=np.float32)"
   ]
  },
  {
   "cell_type": "code",
   "execution_count": 9,
   "metadata": {},
   "outputs": [
    {
     "name": "stderr",
     "output_type": "stream",
     "text": [
      "100%|██████████| 1754/1754 [00:01<00:00, 1541.70it/s]\n"
     ]
    }
   ],
   "source": [
    "for i in tqdm(range(len(pairs))):\n",
    "    p = pairs[i]\n",
    "    m, n = p\n",
    "    \n",
    "    shc_m = test_dataset[m][1].numpy()\n",
    "    shc_n = test_dataset[n][1].numpy()\n",
    "    \n",
    "    shc_rmse[i] = np.sqrt(np.mean((shc_m - shc_n) ** 2))"
   ]
  },
  {
   "cell_type": "code",
   "execution_count": 10,
   "metadata": {},
   "outputs": [],
   "source": [
    "np.save(f'{WORKING_DIR}/data/shc_rmse', shc_rmse)"
   ]
  },
  {
   "cell_type": "code",
   "execution_count": 11,
   "metadata": {},
   "outputs": [],
   "source": [
    "from skimage.metrics import peak_signal_noise_ratio\n",
    "from skimage.metrics import structural_similarity"
   ]
  },
  {
   "cell_type": "code",
   "execution_count": 12,
   "metadata": {},
   "outputs": [],
   "source": [
    "psnr = np.zeros((len(pairs)), dtype=np.float32)\n",
    "ssim = np.zeros((len(pairs)), dtype=np.float32)"
   ]
  },
  {
   "cell_type": "code",
   "execution_count": 13,
   "metadata": {},
   "outputs": [
    {
     "name": "stderr",
     "output_type": "stream",
     "text": [
      "100%|██████████| 1754/1754 [01:39<00:00, 17.71it/s]\n"
     ]
    }
   ],
   "source": [
    "for i in tqdm(range(len(pairs))):\n",
    "\n",
    "    p = pairs[i]\n",
    "    m, n = p\n",
    "\n",
    "    sh_m = u3d.SphericalHarmonics.from_array(test_dataset[m][1].numpy())\n",
    "    sh_n = u3d.SphericalHarmonics.from_array(test_dataset[n][1].numpy())\n",
    "\n",
    "    c_m = sh_m.reconstruct_to_canvas()\n",
    "    c_n = sh_n.reconstruct_to_canvas()\n",
    "    \n",
    "    data_m = np.clip(c_m.data, 0, 1)\n",
    "    data_n = np.clip(c_n.data, 0, 1)\n",
    "    \n",
    "    psnr[i] = peak_signal_noise_ratio(data_m, data_n)\n",
    "    ssim[i] = structural_similarity(data_m, data_n, multichannel=True)"
   ]
  },
  {
   "cell_type": "code",
   "execution_count": 14,
   "metadata": {},
   "outputs": [],
   "source": [
    "np.save(f'{WORKING_DIR}/data/shr_psnr', psnr)\n",
    "np.save(f'{WORKING_DIR}/data/shr_ssim', ssim)"
   ]
  },
  {
   "cell_type": "code",
   "execution_count": null,
   "metadata": {},
   "outputs": [],
   "source": []
  }
 ],
 "metadata": {
  "kernelspec": {
   "display_name": "XiheNet",
   "language": "python",
   "name": "xihenet"
  },
  "language_info": {
   "codemirror_mode": {
    "name": "ipython",
    "version": 3
   },
   "file_extension": ".py",
   "mimetype": "text/x-python",
   "name": "python",
   "nbconvert_exporter": "python",
   "pygments_lexer": "ipython3",
   "version": "3.8.5"
  }
 },
 "nbformat": 4,
 "nbformat_minor": 4
}
