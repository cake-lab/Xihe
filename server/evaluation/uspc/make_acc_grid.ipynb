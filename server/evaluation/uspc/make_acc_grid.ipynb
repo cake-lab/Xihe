{
 "cells": [
  {
   "cell_type": "markdown",
   "metadata": {},
   "source": [
    "# Generate Acceleration Grid\n",
    "\n",
    "The following code generates acceleartion grid used in client GPU pipeline to accelerate unit-sphere point sampling"
   ]
  },
  {
   "cell_type": "code",
   "execution_count": 1,
   "metadata": {},
   "outputs": [],
   "source": [
    "import os\n",
    "os.chdir(f'{os.getcwd()}/../../')\n",
    "WORKING_DIR = './evaluation/uspc'"
   ]
  },
  {
   "cell_type": "code",
   "execution_count": 2,
   "metadata": {},
   "outputs": [],
   "source": [
    "import pandas\n",
    "import imageio\n",
    "import numpy as np\n",
    "import pandas as pd\n",
    "from tqdm import tqdm\n",
    "\n",
    "from utilities.geometry import fibonacci_sphere\n",
    "from utilities.coordinate import spherical_to_cartesian"
   ]
  },
  {
   "cell_type": "code",
   "execution_count": 5,
   "metadata": {},
   "outputs": [],
   "source": [
    "def make_acc_grid(n_anchors, v_acc_grid):\n",
    "    anchors = fibonacci_sphere(n_anchors)\n",
    "    \n",
    "    v = np.arange(v_acc_grid)\n",
    "    v = v / np.max(v) * np.pi\n",
    "    u = np.arange(v_acc_grid * 2)\n",
    "    u = u / np.max(u) * np.pi * 2\n",
    "\n",
    "    uv = np.stack(np.meshgrid(u, v), axis=-1)\n",
    "    uv = np.stack((uv[:, :, 1], uv[:, :, 0]), axis=-1)\n",
    "    r = np.ones_like(uv).mean(axis=-1, keepdims=True)\n",
    "    \n",
    "    uvr = np.concatenate((uv, r), axis=-1)\n",
    "    uvr_flat = uvr.reshape((-1, 3))\n",
    "    uvr_cart = spherical_to_cartesian(uvr_flat)\n",
    "    \n",
    "    # Build cache grid\n",
    "    uvr_neighbors = np.array([np.argmax(anchors @ uvr_cart[i]) for i in range(uvr_cart.shape[0])])\n",
    "    acc_grid = uvr_neighbors.reshape(v_acc_grid, v_acc_grid * 2)\n",
    "    \n",
    "    # imageio.imsave(f'{WORKING_DIR}/figures/acc_grid_{n_anchors}_{v_acc_grid * 2}x{v_acc_grid}.png', acc_grid / (n_anchors - 1))\n",
    "    \n",
    "    grid_bytes = acc_grid.astype(np.uint32).tobytes()\n",
    "    \n",
    "    f = open(f'{WORKING_DIR}/data/grid_{n_anchors}_{v_acc_grid * 2}_{v_acc_grid}.bytes', 'wb')\n",
    "    f.write(grid_bytes)\n",
    "    f.close()"
   ]
  },
  {
   "cell_type": "code",
   "execution_count": 6,
   "metadata": {},
   "outputs": [],
   "source": [
    "n_anchors_group = [512, 768, 1024, 1280, 1536, 1792, 2048]\n",
    "v_acc_grid_group = [256, 512, 768, 1024]"
   ]
  },
  {
   "cell_type": "code",
   "execution_count": 7,
   "metadata": {},
   "outputs": [
    {
     "name": "stderr",
     "output_type": "stream",
     "text": [
      "  0%|          | 0/7 [00:00<?, ?it/s]\n",
      "  0%|          | 0/4 [00:00<?, ?it/s]\u001b[A\n",
      " 25%|██▌       | 1/4 [00:00<00:02,  1.01it/s]\u001b[A\n",
      " 50%|█████     | 2/4 [00:04<00:05,  2.62s/it]\u001b[A\n",
      " 75%|███████▌  | 3/4 [00:12<00:04,  4.93s/it]\u001b[A\n",
      "100%|██████████| 4/4 [00:27<00:00,  6.92s/it]\n",
      " 14%|█▍        | 1/7 [00:27<02:46, 27.70s/it]\n",
      "  0%|          | 0/4 [00:00<?, ?it/s]\u001b[A\n",
      " 25%|██▌       | 1/4 [00:00<00:02,  1.21it/s]\u001b[A\n",
      " 50%|█████     | 2/4 [00:04<00:04,  2.35s/it]\u001b[A\n",
      " 75%|███████▌  | 3/4 [00:12<00:04,  4.84s/it]\u001b[A\n",
      "100%|██████████| 4/4 [00:28<00:00,  7.24s/it]\n",
      " 29%|██▊       | 2/7 [00:56<02:22, 28.44s/it]\n",
      "  0%|          | 0/4 [00:00<?, ?it/s]\u001b[A\n",
      " 25%|██▌       | 1/4 [00:01<00:03,  1.06s/it]\u001b[A\n",
      " 50%|█████     | 2/4 [00:04<00:05,  2.70s/it]\u001b[A\n",
      " 75%|███████▌  | 3/4 [00:13<00:05,  5.33s/it]\u001b[A\n",
      "100%|██████████| 4/4 [00:28<00:00,  7.17s/it]\n",
      " 43%|████▎     | 3/7 [01:25<01:54, 28.55s/it]\n",
      "  0%|          | 0/4 [00:00<?, ?it/s]\u001b[A\n",
      " 25%|██▌       | 1/4 [00:01<00:03,  1.12s/it]\u001b[A\n",
      " 50%|█████     | 2/4 [00:05<00:06,  3.13s/it]\u001b[A\n",
      " 75%|███████▌  | 3/4 [00:15<00:06,  6.10s/it]\u001b[A\n",
      "100%|██████████| 4/4 [00:32<00:00,  8.18s/it]\n",
      " 57%|█████▋    | 4/7 [01:58<01:30, 30.20s/it]\n",
      "  0%|          | 0/4 [00:00<?, ?it/s]\u001b[A\n",
      " 25%|██▌       | 1/4 [00:01<00:04,  1.66s/it]\u001b[A\n",
      " 50%|█████     | 2/4 [00:07<00:08,  4.29s/it]\u001b[A\n",
      " 75%|███████▌  | 3/4 [00:20<00:08,  8.13s/it]\u001b[A\n",
      "100%|██████████| 4/4 [00:40<00:00, 10.02s/it]\n",
      " 71%|███████▏  | 5/7 [02:38<01:07, 33.76s/it]\n",
      "  0%|          | 0/4 [00:00<?, ?it/s]\u001b[A\n",
      " 25%|██▌       | 1/4 [00:01<00:03,  1.21s/it]\u001b[A\n",
      " 50%|█████     | 2/4 [00:06<00:06,  3.48s/it]\u001b[A\n",
      " 75%|███████▌  | 3/4 [00:18<00:07,  7.28s/it]\u001b[A\n",
      "100%|██████████| 4/4 [00:37<00:00,  9.35s/it]\n",
      " 86%|████████▌ | 6/7 [03:15<00:35, 35.00s/it]\n",
      "  0%|          | 0/4 [00:00<?, ?it/s]\u001b[A\n",
      " 25%|██▌       | 1/4 [00:01<00:04,  1.34s/it]\u001b[A\n",
      " 50%|█████     | 2/4 [00:07<00:07,  3.89s/it]\u001b[A\n",
      " 75%|███████▌  | 3/4 [00:19<00:07,  7.82s/it]\u001b[A\n",
      "100%|██████████| 4/4 [00:41<00:00, 10.25s/it]\n",
      "100%|██████████| 7/7 [03:56<00:00, 33.79s/it]\n"
     ]
    }
   ],
   "source": [
    "for n_anchors in tqdm(n_anchors_group):\n",
    "    for v_acc_grid in tqdm(v_acc_grid_group):\n",
    "        make_acc_grid(n_anchors, v_acc_grid)"
   ]
  },
  {
   "cell_type": "code",
   "execution_count": null,
   "metadata": {},
   "outputs": [],
   "source": []
  }
 ],
 "metadata": {
  "kernelspec": {
   "display_name": "XiheNet",
   "language": "python",
   "name": "xihenet"
  },
  "language_info": {
   "codemirror_mode": {
    "name": "ipython",
    "version": 3
   },
   "file_extension": ".py",
   "mimetype": "text/x-python",
   "name": "python",
   "nbconvert_exporter": "python",
   "pygments_lexer": "ipython3",
   "version": "3.8.5"
  }
 },
 "nbformat": 4,
 "nbformat_minor": 4
}
