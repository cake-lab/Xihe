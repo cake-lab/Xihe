{
 "cells": [
  {
   "cell_type": "markdown",
   "metadata": {},
   "source": [
    "# Plotting Relative Entropy\n",
    "\n",
    "The following code generates Figure 10"
   ]
  },
  {
   "cell_type": "code",
   "execution_count": 1,
   "metadata": {},
   "outputs": [],
   "source": [
    "import os\n",
    "os.chdir(f'{os.getcwd()}/../../')\n",
    "WORKING_DIR = './evaluation/uspc'\n",
    "os.environ['CUDA_DEVICE_ORDER'] = 'PCI_BUS_ID'\n",
    "os.environ['CUDA_VISIBLE_DEVICES'] = '0'"
   ]
  },
  {
   "cell_type": "code",
   "execution_count": 2,
   "metadata": {},
   "outputs": [],
   "source": [
    "import torch\n",
    "import configs\n",
    "import numpy as np\n",
    "import pandas as pd\n",
    "from tqdm import tqdm\n",
    "\n",
    "from datasets.xihe.loader import XiheTestDataset\n",
    "from datasets.xihe.loader import XiheFPSTestDataset\n",
    "from datasets.pointar.loader import PointARTestDataset\n",
    "\n",
    "from utils3d import fibonacci_sphere\n",
    "from utils3d import cartesian_to_spherical\n",
    "from utils3d import spherical_to_cartesian\n",
    "\n",
    "import seaborn as sns\n",
    "from matplotlib import pyplot as plt\n",
    "sns.set(color_codes=True)"
   ]
  },
  {
   "cell_type": "code",
   "execution_count": 5,
   "metadata": {},
   "outputs": [],
   "source": [
    "data_root = configs.pointar_dataset_path\n",
    "jec = JointEntropyCalculator([2 ** (i + 1) for i in range(11)])\n",
    "# jec = JointEntropyCalculator([2 ** (i + 1) for i in range(6, 11)])\n",
    "jpc = JointPercentageCalculator([2 ** (i + 1) for i in range(11)])\n",
    "df_test = pd.DataFrame(columns=['n_points', 'ground_truth', 'uniform', 'sphere', 'fps'])"
   ]
  },
  {
   "cell_type": "code",
   "execution_count": 6,
   "metadata": {},
   "outputs": [
    {
     "name": "stderr",
     "output_type": "stream",
     "text": [
      "100%|██████████| 2037/2037 [01:58<00:00, 17.14it/s]\n",
      "100%|██████████| 2037/2037 [01:59<00:00, 17.07it/s]\n",
      "100%|██████████| 2037/2037 [01:59<00:00, 16.98it/s]\n",
      "100%|██████████| 2037/2037 [01:59<00:00, 16.99it/s]\n",
      "100%|██████████| 2037/2037 [02:01<00:00, 16.81it/s]\n",
      "100%|██████████| 2037/2037 [02:01<00:00, 16.77it/s]\n",
      "100%|██████████| 2037/2037 [02:01<00:00, 16.74it/s]\n"
     ]
    }
   ],
   "source": [
    "for n_anchors in [512, 768, 1024, 1280, 1536, 1792, 2048]:\n",
    "    du_test = PointARTestDataset(n_points=n_anchors)\n",
    "    ds_test = XiheTestDataset(n_points=n_anchors)\n",
    "    fps_test = XiheFPSTestDataset(n_points=n_anchors)\n",
    "    \n",
    "    for i in tqdm(range(len(ds_test))):\n",
    "        x = torch.from_numpy(np.load(f'{data_root}/test/{i}/point_cloud.npz')['point_cloud'])\n",
    "        x -= np.array([0, 0.1, 0, 0, 0, 0], dtype=np.float32)\n",
    "        x = x[:, :3].transpose(0, 1)\n",
    "        s = torch.linalg.norm(x, dim=0)\n",
    "        gtpc = x[:, s > 0].transpose(0, 1).cuda()\n",
    "#         egt = jpc.forward(gtpc)\n",
    "        egt = jec.forward(gtpc)\n",
    "\n",
    "        \n",
    "        x, _ = du_test[i]\n",
    "        xyz, _ = x\n",
    "        s = torch.linalg.norm(xyz, dim=0)\n",
    "        pc = xyz[:, s > 0].transpose(0, 1).cuda()\n",
    "#         eu = jpc.forward(pc)\n",
    "        eu = jec.forward(pc)\n",
    "\n",
    "        \n",
    "        x, _ = ds_test[i]\n",
    "        xyz, _ = x\n",
    "        s = torch.linalg.norm(xyz, dim=0)\n",
    "        pc = xyz[:, s > 0].transpose(0, 1).cuda()\n",
    "#         es = jpc.forward(pc)\n",
    "        es = jec.forward(pc)\n",
    "\n",
    "        \n",
    "        x, _ = fps_test[i]\n",
    "        xyz, _ = x\n",
    "        s = torch.linalg.norm(xyz, dim=0)\n",
    "        pc = xyz[:, s > 0].transpose(0, 1).cuda()\n",
    "#         ef = jpc.forward(pc)\n",
    "        ef = jec.forward(pc)\n",
    "\n",
    "        df_test.loc[len(df_test)] = [str(n_anchors), egt, eu, es, ef]"
   ]
  },
  {
   "cell_type": "code",
   "execution_count": 7,
   "metadata": {},
   "outputs": [],
   "source": [
    "df_test.to_csv(f'{WORKING_DIR}/results/test.csv')"
   ]
  },
  {
   "cell_type": "markdown",
   "metadata": {},
   "source": [
    "# Plots"
   ]
  },
  {
   "cell_type": "code",
   "execution_count": 8,
   "metadata": {},
   "outputs": [],
   "source": [
    "df = pd.read_csv(f'{WORKING_DIR}/results/test.csv', index_col=0)"
   ]
  },
  {
   "cell_type": "code",
   "execution_count": 9,
   "metadata": {},
   "outputs": [],
   "source": [
    "# df_fg = pd.DataFrame.from_dict({\n",
    "#     'Unit Sphere': pd.Series((df[['sphere']].values / df[['ground_truth']].values)[:, 0]),\n",
    "#     'Uniform Random [7]': pd.Series((df[['uniform']].values / df[['ground_truth']].values)[:, 0])\n",
    "# })\n",
    "\n",
    "df_fg = pd.DataFrame(columns=['n_points', 'sampling_method', 'normalized_entropy'])\n",
    "\n",
    "for n_points in [512, 768, 1024, 1280, 1536, 1792, 2048]:\n",
    "    \n",
    "    t = df[df['n_points'] == n_points]\n",
    "\n",
    "    df_fg.loc[len(df_fg)] = [\n",
    "        n_points,\n",
    "        'Ours',\n",
    "        (t['sphere'] / t['ground_truth']).mean()\n",
    "    ]\n",
    "    \n",
    "    df_fg.loc[len(df_fg)] = [\n",
    "        n_points,\n",
    "        'FPS',\n",
    "        (t['fps'] / t['ground_truth']).mean()\n",
    "    ]\n",
    "    \n",
    "    df_fg.loc[len(df_fg)] = [\n",
    "        n_points,\n",
    "        'Uniform Random [7]',\n",
    "        (t['uniform'] / t['ground_truth']).mean()\n",
    "    ]"
   ]
  },
  {
   "cell_type": "code",
   "execution_count": 29,
   "metadata": {},
   "outputs": [
    {
     "name": "stderr",
     "output_type": "stream",
     "text": [
      "<ipython-input-29-1688ee98e892>:32: UserWarning: FixedFormatter should only be used together with FixedLocator\n",
      "  ax.set_yticklabels(np.around(ax.get_yticks(), decimals=1), size=16)\n"
     ]
    },
    {
     "data": {
      "image/png": "[encoded data removed]",
      "text/plain": [
       "<Figure size 720x324 with 1 Axes>"
      ]
     },
     "metadata": {},
     "output_type": "display_data"
    }
   ],
   "source": [
    "plt.figure(figsize=(10, 4.5))\n",
    "\n",
    "ax = sns.barplot(data=df_fg, x='n_points', y='normalized_entropy', hue='sampling_method')\n",
    "\n",
    "# num_locations = 7\n",
    "# hatches = itertools.cycle(['/', '//'])\n",
    "# for i, bar in enumerate(ax.patches):\n",
    "#     if i % num_locations == 0:\n",
    "#         hatch = next(hatches)\n",
    "#     bar.set_hatch(hatch)\n",
    "\n",
    "l = ax.legend(\n",
    "    loc='lower center', fontsize=16, ncol=3,\n",
    "    bbox_to_anchor=(0., 1.02, 1., .102), mode='expand',\n",
    "    edgecolor=(0, 0, 0, 0),\n",
    "    facecolor=(0, 0, 1, 0.0)\n",
    ")\n",
    "l.get_frame().set_alpha(None)\n",
    "# ax.get_legend().set_title('Sampling Method')\n",
    "plt.setp(ax.get_legend().get_title(), fontsize=18)\n",
    "\n",
    "l.get_texts()[0].set_text('Ours')\n",
    "l.get_texts()[1].set_text('Farthest Point Sampling')\n",
    "l.get_texts()[2].set_text('Uniform Random')\n",
    "\n",
    "ax.set_xlabel('Num. of Anchors', fontsize=20)\n",
    "ax.set_ylabel('Relative Entropy', fontsize=20)\n",
    "\n",
    "# ax.set_ylim(0.5, 1.0)\n",
    "\n",
    "ax.set_xticklabels(ax.get_xticklabels(), size=14)\n",
    "ax.set_yticklabels(np.around(ax.get_yticks(), decimals=1), size=16)\n",
    "\n",
    "plt.tight_layout(pad=0)\n",
    "plt.savefig(f'{WORKING_DIR}/figures/completeness_sampling_entropy.pdf')  "
   ]
  },
  {
   "cell_type": "code",
   "execution_count": 31,
   "metadata": {},
   "outputs": [
    {
     "data": {
      "text/plain": [
       "array([[0.55585327],\n",
       "       [0.54562894],\n",
       "       [0.56822214],\n",
       "       [0.56253905],\n",
       "       [0.55760004],\n",
       "       [0.55655409],\n",
       "       [0.55518037]])"
      ]
     },
     "execution_count": 31,
     "metadata": {},
     "output_type": "execute_result"
    }
   ],
   "source": [
    "(df_fg[df_fg['sampling_method'] == 'Ours'][['normalized_entropy']].values -\n",
    " df_fg[df_fg['sampling_method'] == 'Uniform Random [7]'][['normalized_entropy']].values).mean()"
   ]
  },
  {
   "cell_type": "code",
   "execution_count": 36,
   "metadata": {},
   "outputs": [
    {
     "data": {
      "text/plain": [
       "55.73682723818566"
      ]
     },
     "execution_count": 36,
     "metadata": {},
     "output_type": "execute_result"
    }
   ],
   "source": [
    "((df_fg[df_fg['sampling_method'] == 'Ours'][['normalized_entropy']].values -\n",
    " df_fg[df_fg['sampling_method'] == 'Uniform Random [7]'][['normalized_entropy']].values) /\n",
    "    df_fg[df_fg['sampling_method'] == 'Uniform Random [7]'][['normalized_entropy']].values).mean() * 100"
   ]
  },
  {
   "cell_type": "code",
   "execution_count": 28,
   "metadata": {},
   "outputs": [
    {
     "data": {
      "text/plain": [
       "0.35885593725002857"
      ]
     },
     "execution_count": 28,
     "metadata": {},
     "output_type": "execute_result"
    }
   ],
   "source": [
    "(df_fg[df_fg['sampling_method'] == 'Ours'][['normalized_entropy']].values -\n",
    " df_fg[df_fg['sampling_method'] == 'FPS'][['normalized_entropy']].values).mean()"
   ]
  },
  {
   "cell_type": "code",
   "execution_count": 37,
   "metadata": {},
   "outputs": [
    {
     "data": {
      "text/plain": [
       "30.80341927615104"
      ]
     },
     "execution_count": 37,
     "metadata": {},
     "output_type": "execute_result"
    }
   ],
   "source": [
    "((df_fg[df_fg['sampling_method'] == 'Ours'][['normalized_entropy']].values -\n",
    " df_fg[df_fg['sampling_method'] == 'FPS'][['normalized_entropy']].values) / \n",
    " df_fg[df_fg['sampling_method'] == 'FPS'][['normalized_entropy']].values).mean() * 100"
   ]
  },
  {
   "cell_type": "code",
   "execution_count": null,
   "metadata": {},
   "outputs": [],
   "source": []
  }
 ],
 "metadata": {
  "kernelspec": {
   "display_name": "XiheNet",
   "language": "python",
   "name": "xihenet"
  },
  "language_info": {
   "codemirror_mode": {
    "name": "ipython",
    "version": 3
   },
   "file_extension": ".py",
   "mimetype": "text/x-python",
   "name": "python",
   "nbconvert_exporter": "python",
   "pygments_lexer": "ipython3",
   "version": "3.8.5"
  }
 },
 "nbformat": 4,
 "nbformat_minor": 4
}
