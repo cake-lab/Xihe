{
 "cells": [
  {
   "cell_type": "markdown",
   "metadata": {},
   "source": [
    "# Figure 12: Eempirical characterization of unit sphere-based pointcloud generated from the test datase"
   ]
  },
  {
   "cell_type": "code",
   "execution_count": 1,
   "metadata": {},
   "outputs": [],
   "source": [
    "import os\n",
    "os.chdir(f'{os.getcwd()}/../../')\n",
    "WORKING_DIR = './evaluation/profile_networking'"
   ]
  },
  {
   "cell_type": "code",
   "execution_count": 2,
   "metadata": {},
   "outputs": [],
   "source": [
    "import itertools\n",
    "import numpy as np\n",
    "import pandas as pd\n",
    "from tqdm import tqdm\n",
    "from datasets.xihe.loader import XiheTestDataset\n",
    "\n",
    "import seaborn as sns\n",
    "from matplotlib import pyplot as plt\n",
    "\n",
    "sns.set(color_codes=True)"
   ]
  },
  {
   "cell_type": "code",
   "execution_count": 3,
   "metadata": {},
   "outputs": [],
   "source": [
    "anchors_group = [512, 768, 1024, 1280, 1536, 1792, 2048]\n",
    "df = pd.DataFrame(columns=['n_anchors', 'data_idx', 'empty_anchors'])"
   ]
  },
  {
   "cell_type": "code",
   "execution_count": 7,
   "metadata": {},
   "outputs": [
    {
     "name": "stderr",
     "output_type": "stream",
     "text": [
      "100%|██████████| 2037/2037 [00:03<00:00, 636.15it/s]\n",
      "100%|██████████| 2037/2037 [00:03<00:00, 673.55it/s]\n",
      "100%|██████████| 2037/2037 [00:03<00:00, 631.95it/s]\n",
      "100%|██████████| 2037/2037 [00:03<00:00, 594.24it/s]\n",
      "100%|██████████| 2037/2037 [00:03<00:00, 576.38it/s]\n",
      "100%|██████████| 2037/2037 [00:03<00:00, 531.95it/s]\n",
      "100%|██████████| 2037/2037 [00:04<00:00, 444.34it/s]\n"
     ]
    }
   ],
   "source": [
    "for n_anchors in anchors_group:\n",
    "    dataset = XiheTestDataset(n_points=n_anchors)\n",
    "    \n",
    "    empty_count = np.zeros((len(dataset)), dtype=np.int)\n",
    "    \n",
    "    for i in tqdm(range(len(dataset))):\n",
    "        x, y = dataset[i]\n",
    "        rgb = x[1]\n",
    "        empty_anchors = (rgb.sum(dim=0) > 0).sum().item()\n",
    "        \n",
    "        df.loc[len(df)] = [n_anchors, i, empty_anchors]"
   ]
  },
  {
   "cell_type": "code",
   "execution_count": 8,
   "metadata": {},
   "outputs": [],
   "source": [
    "df['empty_anchors'] = df['empty_anchors'].astype(np.int)"
   ]
  },
  {
   "cell_type": "code",
   "execution_count": 9,
   "metadata": {},
   "outputs": [],
   "source": [
    "df['non_empty_anchors'] = df['n_anchors'] - df['empty_anchors']"
   ]
  },
  {
   "cell_type": "code",
   "execution_count": 10,
   "metadata": {},
   "outputs": [],
   "source": [
    "df['bytes_float4'] = df['non_empty_anchors'] * 4 * 4"
   ]
  },
  {
   "cell_type": "code",
   "execution_count": 11,
   "metadata": {},
   "outputs": [
    {
     "name": "stderr",
     "output_type": "stream",
     "text": [
      "<ipython-input-11-8daf0862ad19>:11: UserWarning: FixedFormatter should only be used together with FixedLocator\n",
      "  ax.set_yticklabels(np.around(ax.get_yticks(), decimals=1).astype(np.int), size=16)\n"
     ]
    },
    {
     "data": {
      "image/png": "[encoded data removed]",
      "text/plain": [
       "<Figure size 360x288 with 1 Axes>"
      ]
     },
     "metadata": {},
     "output_type": "display_data"
    }
   ],
   "source": [
    "plt.figure(figsize=(5, 4))\n",
    "\n",
    "ax = sns.boxplot(data=df, x='n_anchors', y='bytes_float4', color='b')\n",
    "# sns.lineplot(data=df['n_anchors'].unique().astype(np.int), marker='o', markersize=10)\n",
    "\n",
    "\n",
    "ax.set_xlabel('Num. of Anchors', fontsize=20)\n",
    "ax.set_ylabel('Bytes', fontsize=20)\n",
    "\n",
    "ax.set_xticklabels([512 + 256 * i for i in range(7)], size=14)\n",
    "ax.set_yticklabels(np.around(ax.get_yticks(), decimals=1).astype(np.int), size=16)\n",
    "\n",
    "plt.tight_layout(pad=0)\n",
    "plt.savefig(f'{WORKING_DIR}/figures/bytes_float4.pdf')  "
   ]
  },
  {
   "cell_type": "code",
   "execution_count": 12,
   "metadata": {},
   "outputs": [
    {
     "data": {
      "text/html": [
       "<div>\n",
       "<style scoped>\n",
       "    .dataframe tbody tr th:only-of-type {\n",
       "        vertical-align: middle;\n",
       "    }\n",
       "\n",
       "    .dataframe tbody tr th {\n",
       "        vertical-align: top;\n",
       "    }\n",
       "\n",
       "    .dataframe thead th {\n",
       "        text-align: right;\n",
       "    }\n",
       "</style>\n",
       "<table border=\"1\" class=\"dataframe\">\n",
       "  <thead>\n",
       "    <tr style=\"text-align: right;\">\n",
       "      <th></th>\n",
       "      <th>n_anchors</th>\n",
       "      <th>data_idx</th>\n",
       "      <th>empty_anchors</th>\n",
       "      <th>non_empty_anchors</th>\n",
       "      <th>bytes_float4</th>\n",
       "    </tr>\n",
       "  </thead>\n",
       "  <tbody>\n",
       "    <tr>\n",
       "      <th>6111</th>\n",
       "      <td>1280</td>\n",
       "      <td>0</td>\n",
       "      <td>662</td>\n",
       "      <td>618</td>\n",
       "      <td>9888</td>\n",
       "    </tr>\n",
       "    <tr>\n",
       "      <th>6112</th>\n",
       "      <td>1280</td>\n",
       "      <td>1</td>\n",
       "      <td>712</td>\n",
       "      <td>568</td>\n",
       "      <td>9088</td>\n",
       "    </tr>\n",
       "    <tr>\n",
       "      <th>6113</th>\n",
       "      <td>1280</td>\n",
       "      <td>2</td>\n",
       "      <td>535</td>\n",
       "      <td>745</td>\n",
       "      <td>11920</td>\n",
       "    </tr>\n",
       "    <tr>\n",
       "      <th>6114</th>\n",
       "      <td>1280</td>\n",
       "      <td>3</td>\n",
       "      <td>546</td>\n",
       "      <td>734</td>\n",
       "      <td>11744</td>\n",
       "    </tr>\n",
       "    <tr>\n",
       "      <th>6115</th>\n",
       "      <td>1280</td>\n",
       "      <td>4</td>\n",
       "      <td>792</td>\n",
       "      <td>488</td>\n",
       "      <td>7808</td>\n",
       "    </tr>\n",
       "    <tr>\n",
       "      <th>...</th>\n",
       "      <td>...</td>\n",
       "      <td>...</td>\n",
       "      <td>...</td>\n",
       "      <td>...</td>\n",
       "      <td>...</td>\n",
       "    </tr>\n",
       "    <tr>\n",
       "      <th>8143</th>\n",
       "      <td>1280</td>\n",
       "      <td>2032</td>\n",
       "      <td>757</td>\n",
       "      <td>523</td>\n",
       "      <td>8368</td>\n",
       "    </tr>\n",
       "    <tr>\n",
       "      <th>8144</th>\n",
       "      <td>1280</td>\n",
       "      <td>2033</td>\n",
       "      <td>669</td>\n",
       "      <td>611</td>\n",
       "      <td>9776</td>\n",
       "    </tr>\n",
       "    <tr>\n",
       "      <th>8145</th>\n",
       "      <td>1280</td>\n",
       "      <td>2034</td>\n",
       "      <td>737</td>\n",
       "      <td>543</td>\n",
       "      <td>8688</td>\n",
       "    </tr>\n",
       "    <tr>\n",
       "      <th>8146</th>\n",
       "      <td>1280</td>\n",
       "      <td>2035</td>\n",
       "      <td>542</td>\n",
       "      <td>738</td>\n",
       "      <td>11808</td>\n",
       "    </tr>\n",
       "    <tr>\n",
       "      <th>8147</th>\n",
       "      <td>1280</td>\n",
       "      <td>2036</td>\n",
       "      <td>617</td>\n",
       "      <td>663</td>\n",
       "      <td>10608</td>\n",
       "    </tr>\n",
       "  </tbody>\n",
       "</table>\n",
       "<p>2037 rows × 5 columns</p>\n",
       "</div>"
      ],
      "text/plain": [
       "     n_anchors data_idx  empty_anchors non_empty_anchors bytes_float4\n",
       "6111      1280        0            662               618         9888\n",
       "6112      1280        1            712               568         9088\n",
       "6113      1280        2            535               745        11920\n",
       "6114      1280        3            546               734        11744\n",
       "6115      1280        4            792               488         7808\n",
       "...        ...      ...            ...               ...          ...\n",
       "8143      1280     2032            757               523         8368\n",
       "8144      1280     2033            669               611         9776\n",
       "8145      1280     2034            737               543         8688\n",
       "8146      1280     2035            542               738        11808\n",
       "8147      1280     2036            617               663        10608\n",
       "\n",
       "[2037 rows x 5 columns]"
      ]
     },
     "execution_count": 12,
     "metadata": {},
     "output_type": "execute_result"
    }
   ],
   "source": [
    "df.query('n_anchors == 1280')"
   ]
  },
  {
   "cell_type": "code",
   "execution_count": 13,
   "metadata": {},
   "outputs": [
    {
     "name": "stderr",
     "output_type": "stream",
     "text": [
      "<ipython-input-13-5ce921756e65>:8: UserWarning: FixedFormatter should only be used together with FixedLocator\n",
      "  ax.set_xticklabels(np.around(ax.get_xticks(), decimals=1).astype(np.int), size=14)\n",
      "<ipython-input-13-5ce921756e65>:9: UserWarning: FixedFormatter should only be used together with FixedLocator\n",
      "  ax.set_yticklabels(np.around(ax.get_yticks(), decimals=2), size=16)\n"
     ]
    },
    {
     "data": {
      "image/png": "[encoded data removed]",
      "text/plain": [
       "<Figure size 360x288 with 1 Axes>"
      ]
     },
     "metadata": {},
     "output_type": "display_data"
    }
   ],
   "source": [
    "plt.figure(figsize=(5, 4))\n",
    "\n",
    "ax = sns.histplot(data=df.query('n_anchors == 1280')['empty_anchors'], stat='probability')\n",
    "\n",
    "ax.set_xlabel('Num. of Empty Anchors', fontsize=20)\n",
    "ax.set_ylabel('Probability', fontsize=20)\n",
    "\n",
    "ax.set_xticklabels(np.around(ax.get_xticks(), decimals=1).astype(np.int), size=14)\n",
    "ax.set_yticklabels(np.around(ax.get_yticks(), decimals=2), size=16)\n",
    "\n",
    "plt.tight_layout(pad=0)\n",
    "plt.savefig(f'{WORKING_DIR}/figures/empty_anchors_distribution.pdf')  "
   ]
  },
  {
   "cell_type": "code",
   "execution_count": null,
   "metadata": {},
   "outputs": [],
   "source": [
    "# plt.figure(figsize=(5, 5))\n",
    "\n",
    "ax = sns.boxplot(x=empty_count * 16)\n",
    "\n",
    "ax.set_xlabel('Bytes Reduced', fontsize=20)\n",
    "# ax.set_ylabel('Probability', fontsize=16)\n",
    "\n",
    "plt.tight_layout(pad=0)\n",
    "plt.savefig(f'{WORKING_DIR}/figures/bytes_reduced.pdf')  "
   ]
  },
  {
   "cell_type": "code",
   "execution_count": 32,
   "metadata": {},
   "outputs": [
    {
     "data": {
      "text/plain": [
       "count    2037.000000\n",
       "mean      607.229750\n",
       "std       212.706489\n",
       "min         4.000000\n",
       "25%       530.000000\n",
       "50%       642.000000\n",
       "75%       744.000000\n",
       "max      1058.000000\n",
       "dtype: float64"
      ]
     },
     "execution_count": 32,
     "metadata": {},
     "output_type": "execute_result"
    }
   ],
   "source": [
    "pd.Series(non_empty_count).describe()"
   ]
  },
  {
   "cell_type": "code",
   "execution_count": 33,
   "metadata": {},
   "outputs": [],
   "source": [
    "np.save(f'{WORKING_DIR}/non_empty_count', non_empty_count)"
   ]
  },
  {
   "cell_type": "code",
   "execution_count": null,
   "metadata": {},
   "outputs": [],
   "source": []
  }
 ],
 "metadata": {
  "kernelspec": {
   "display_name": "XiheNet",
   "language": "python",
   "name": "xihenet"
  },
  "language_info": {
   "codemirror_mode": {
    "name": "ipython",
    "version": 3
   },
   "file_extension": ".py",
   "mimetype": "text/x-python",
   "name": "python",
   "nbconvert_exporter": "python",
   "pygments_lexer": "ipython3",
   "version": "3.8.5"
  }
 },
 "nbformat": 4,
 "nbformat_minor": 4
}
